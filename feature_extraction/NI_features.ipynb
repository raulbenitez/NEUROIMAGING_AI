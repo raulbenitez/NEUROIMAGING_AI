{
  "nbformat": 4,
  "nbformat_minor": 0,
  "metadata": {
    "colab": {
      "name": "NI_features.ipynb",
      "provenance": [],
      "authorship_tag": "ABX9TyOSzlgal15Ui67S12O5niHj",
      "include_colab_link": true
    },
    "kernelspec": {
      "name": "python3",
      "display_name": "Python 3"
    },
    "language_info": {
      "name": "python"
    }
  },
  "cells": [
    {
      "cell_type": "markdown",
      "metadata": {
        "id": "view-in-github",
        "colab_type": "text"
      },
      "source": [
        "<a href=\"https://colab.research.google.com/github/raulbenitez/NEUROIMAGING_AI/blob/main/NI_features.ipynb\" target=\"_parent\"><img src=\"https://colab.research.google.com/assets/colab-badge.svg\" alt=\"Open In Colab\"/></a>"
      ]
    },
    {
      "cell_type": "code",
      "execution_count": 1,
      "metadata": {
        "colab": {
          "base_uri": "https://localhost:8080/"
        },
        "id": "4FUrFQGLp3Oe",
        "outputId": "493d466a-1356-487c-93f3-a8d22aea24f4"
      },
      "outputs": [
        {
          "output_type": "stream",
          "name": "stdout",
          "text": [
            "Collecting nilearn\n",
            "  Downloading nilearn-0.9.1-py3-none-any.whl (9.6 MB)\n",
            "\u001b[K     |████████████████████████████████| 9.6 MB 8.2 MB/s \n",
            "\u001b[?25hRequirement already satisfied: nibabel>=3.0.0 in /usr/local/lib/python3.7/dist-packages (from nilearn) (3.0.2)\n",
            "Requirement already satisfied: joblib>=0.15 in /usr/local/lib/python3.7/dist-packages (from nilearn) (1.1.0)\n",
            "Requirement already satisfied: lxml in /usr/local/lib/python3.7/dist-packages (from nilearn) (4.2.6)\n",
            "Requirement already satisfied: requests>=2 in /usr/local/lib/python3.7/dist-packages (from nilearn) (2.23.0)\n",
            "Requirement already satisfied: pandas>=1.0 in /usr/local/lib/python3.7/dist-packages (from nilearn) (1.3.5)\n",
            "Requirement already satisfied: scikit-learn>=0.22 in /usr/local/lib/python3.7/dist-packages (from nilearn) (1.0.2)\n",
            "Collecting scipy>=1.5\n",
            "  Downloading scipy-1.7.3-cp37-cp37m-manylinux_2_12_x86_64.manylinux2010_x86_64.whl (38.1 MB)\n",
            "\u001b[K     |████████████████████████████████| 38.1 MB 1.7 MB/s \n",
            "\u001b[?25hRequirement already satisfied: numpy>=1.18 in /usr/local/lib/python3.7/dist-packages (from nilearn) (1.21.6)\n",
            "Requirement already satisfied: python-dateutil>=2.7.3 in /usr/local/lib/python3.7/dist-packages (from pandas>=1.0->nilearn) (2.8.2)\n",
            "Requirement already satisfied: pytz>=2017.3 in /usr/local/lib/python3.7/dist-packages (from pandas>=1.0->nilearn) (2022.1)\n",
            "Requirement already satisfied: six>=1.5 in /usr/local/lib/python3.7/dist-packages (from python-dateutil>=2.7.3->pandas>=1.0->nilearn) (1.15.0)\n",
            "Requirement already satisfied: certifi>=2017.4.17 in /usr/local/lib/python3.7/dist-packages (from requests>=2->nilearn) (2021.10.8)\n",
            "Requirement already satisfied: urllib3!=1.25.0,!=1.25.1,<1.26,>=1.21.1 in /usr/local/lib/python3.7/dist-packages (from requests>=2->nilearn) (1.24.3)\n",
            "Requirement already satisfied: chardet<4,>=3.0.2 in /usr/local/lib/python3.7/dist-packages (from requests>=2->nilearn) (3.0.4)\n",
            "Requirement already satisfied: idna<3,>=2.5 in /usr/local/lib/python3.7/dist-packages (from requests>=2->nilearn) (2.10)\n",
            "Requirement already satisfied: threadpoolctl>=2.0.0 in /usr/local/lib/python3.7/dist-packages (from scikit-learn>=0.22->nilearn) (3.1.0)\n",
            "Installing collected packages: scipy, nilearn\n",
            "  Attempting uninstall: scipy\n",
            "    Found existing installation: scipy 1.4.1\n",
            "    Uninstalling scipy-1.4.1:\n",
            "      Successfully uninstalled scipy-1.4.1\n",
            "\u001b[31mERROR: pip's dependency resolver does not currently take into account all the packages that are installed. This behaviour is the source of the following dependency conflicts.\n",
            "albumentations 0.1.12 requires imgaug<0.2.7,>=0.2.5, but you have imgaug 0.2.9 which is incompatible.\u001b[0m\n",
            "Successfully installed nilearn-0.9.1 scipy-1.7.3\n"
          ]
        }
      ],
      "source": [
        "pip install nilearn"
      ]
    },
    {
      "cell_type": "markdown",
      "source": [
        "# Load data"
      ],
      "metadata": {
        "id": "JCXtC3drqJCB"
      }
    },
    {
      "cell_type": "code",
      "source": [
        "import nibabel as nib\n",
        "from nilearn.datasets import MNI152_FILE_PATH\n",
        "from matplotlib import pyplot as plt\n",
        "import numpy as np\n",
        "\n",
        "# Now, we read the image with nibabel (nib), and we convert it to a numpy matrix\n",
        "print(MNI152_FILE_PATH)\n",
        "img = nib.load(MNI152_FILE_PATH)\n",
        "data = img.get_fdata()\n",
        "data.shape"
      ],
      "metadata": {
        "colab": {
          "base_uri": "https://localhost:8080/"
        },
        "id": "I691xNbyp7vA",
        "outputId": "add79604-6274-42fd-804d-fdb9615968e7"
      },
      "execution_count": 38,
      "outputs": [
        {
          "output_type": "stream",
          "name": "stdout",
          "text": [
            "/usr/local/lib/python3.7/dist-packages/nilearn/datasets/data/mni_icbm152_t1_tal_nlin_sym_09a_converted.nii.gz\n"
          ]
        },
        {
          "output_type": "execute_result",
          "data": {
            "text/plain": [
              "(197, 233, 189)"
            ]
          },
          "metadata": {},
          "execution_count": 38
        }
      ]
    },
    {
      "cell_type": "markdown",
      "source": [
        "# Volume segmentation (k-means)"
      ],
      "metadata": {
        "id": "njok6XuTqLsV"
      }
    },
    {
      "cell_type": "code",
      "source": [
        "import skimage as sk # load skimage libraries\n",
        "import numpy as np\n",
        "from sklearn.cluster import KMeans\n",
        "import matplotlib.pyplot as plt\n",
        "from matplotlib import gridspec\n",
        "\n",
        "v_I = np.reshape(data,(data.shape[0]*data.shape[1]*data.shape[2],1)) # reshape image as NPIX x NCHANNELS array\n",
        "kmeans = KMeans(n_clusters=5).fit(v_I) # Fit a k-means algorithm\n",
        "v_kmeans = kmeans.fit_predict(v_I) # Predict k-means cluster labels for each pixel\n",
        "I_segment = np.reshape(v_kmeans,(data.shape[0],data.shape[1],data.shape[2])) # reshape back to original image size"
      ],
      "metadata": {
        "id": "tkL8bcNlp7eu"
      },
      "execution_count": 39,
      "outputs": []
    },
    {
      "cell_type": "code",
      "source": [
        "np.unique(I_segment)"
      ],
      "metadata": {
        "colab": {
          "base_uri": "https://localhost:8080/"
        },
        "id": "ct5W7rGUscC9",
        "outputId": "b0da485b-c9d9-4cab-a384-1af0ee7e0dbd"
      },
      "execution_count": 40,
      "outputs": [
        {
          "output_type": "execute_result",
          "data": {
            "text/plain": [
              "array([0, 1, 2, 3, 4], dtype=int32)"
            ]
          },
          "metadata": {},
          "execution_count": 40
        }
      ]
    },
    {
      "cell_type": "markdown",
      "source": [
        "# Visualization"
      ],
      "metadata": {
        "id": "F080pn01qN83"
      }
    },
    {
      "cell_type": "code",
      "source": [
        "from nilearn.plotting import plot_epi, show\n",
        "import nibabel as nib\n",
        "import numpy as np\n",
        "\n",
        "new_image = nib.Nifti1Image(I_segment, np.eye(4))\n",
        "new_image.set_data_dtype(np.int64)\n",
        "plot_epi(new_image)"
      ],
      "metadata": {
        "colab": {
          "base_uri": "https://localhost:8080/",
          "height": 236
        },
        "id": "hdnYrc2gp8ur",
        "outputId": "8b9346f5-b7da-473f-9fd4-ff5af4c54339"
      },
      "execution_count": 41,
      "outputs": [
        {
          "output_type": "execute_result",
          "data": {
            "text/plain": [
              "<nilearn.plotting.displays._slicers.OrthoSlicer at 0x7f0245dcbbd0>"
            ]
          },
          "metadata": {},
          "execution_count": 41
        },
        {
          "output_type": "display_data",
          "data": {
            "text/plain": [
              "<Figure size 475.2x187.2 with 4 Axes>"
            ],
            "image/png": "[encoded data removed]"
          },
          "metadata": {}
        }
      ]
    },
    {
      "cell_type": "markdown",
      "source": [
        "# Feature extraction (regional properties)"
      ],
      "metadata": {
        "id": "orPJBpcBqPYh"
      }
    },
    {
      "cell_type": "code",
      "source": [
        "from skimage.measure import label, regionprops, regionprops_table\n",
        "import pandas as pd  \n",
        "\n",
        "from skimage import util, measure\n",
        "\n",
        "def quartiles(regionmask, intensity):\n",
        "    return np.percentile(intensity[regionmask], q=(25, 50, 75))\n",
        "\n",
        "\n",
        "props = regionprops_table(I_segment,intensity_image=data,properties=('centroid','area','label',),extra_properties=(quartiles,))   \n",
        "df_props = pd.DataFrame(props)  \n",
        "df_props.head()                                                  "
      ],
      "metadata": {
        "colab": {
          "base_uri": "https://localhost:8080/",
          "height": 175
        },
        "id": "SKufxv6yqRuf",
        "outputId": "dc5633a9-6dd8-4426-c86c-cc3ce583129e"
      },
      "execution_count": 42,
      "outputs": [
        {
          "output_type": "execute_result",
          "data": {
            "text/plain": [
              "   centroid-0  centroid-1  centroid-2    area  label  quartiles-0  \\\n",
              "0        98.0  108.347991   79.477686  626981      1        174.0   \n",
              "1        98.0  108.696664   78.877046  194072      2         93.0   \n",
              "2        98.0  117.122332   90.630394  581992      3        208.0   \n",
              "3        98.0  111.928111   74.318350  479698      4        146.0   \n",
              "\n",
              "   quartiles-1  quartiles-2  \n",
              "0        181.0        189.0  \n",
              "1        109.0        120.0  \n",
              "2        217.0        222.0  \n",
              "3        156.0        162.0  "
            ],
            "text/html": [
              "\n",
              "  <div id=\"df-5b73753c-992f-4a9c-aaf1-97d1e5eb559a\">\n",
              "    <div class=\"colab-df-container\">\n",
              "      <div>\n",
              "<style scoped>\n",
              "    .dataframe tbody tr th:only-of-type {\n",
              "        vertical-align: middle;\n",
              "    }\n",
              "\n",
              "    .dataframe tbody tr th {\n",
              "        vertical-align: top;\n",
              "    }\n",
              "\n",
              "    .dataframe thead th {\n",
              "        text-align: right;\n",
              "    }\n",
              "</style>\n",
              "<table border=\"1\" class=\"dataframe\">\n",
              "  <thead>\n",
              "    <tr style=\"text-align: right;\">\n",
              "      <th></th>\n",
              "      <th>centroid-0</th>\n",
              "      <th>centroid-1</th>\n",
              "      <th>centroid-2</th>\n",
              "      <th>area</th>\n",
              "      <th>label</th>\n",
              "      <th>quartiles-0</th>\n",
              "      <th>quartiles-1</th>\n",
              "      <th>quartiles-2</th>\n",
              "    </tr>\n",
              "  </thead>\n",
              "  <tbody>\n",
              "    <tr>\n",
              "      <th>0</th>\n",
              "      <td>98.0</td>\n",
              "      <td>108.347991</td>\n",
              "      <td>79.477686</td>\n",
              "      <td>626981</td>\n",
              "      <td>1</td>\n",
              "      <td>174.0</td>\n",
              "      <td>181.0</td>\n",
              "      <td>189.0</td>\n",
              "    </tr>\n",
              "    <tr>\n",
              "      <th>1</th>\n",
              "      <td>98.0</td>\n",
              "      <td>108.696664</td>\n",
              "      <td>78.877046</td>\n",
              "      <td>194072</td>\n",
              "      <td>2</td>\n",
              "      <td>93.0</td>\n",
              "      <td>109.0</td>\n",
              "      <td>120.0</td>\n",
              "    </tr>\n",
              "    <tr>\n",
              "      <th>2</th>\n",
              "      <td>98.0</td>\n",
              "      <td>117.122332</td>\n",
              "      <td>90.630394</td>\n",
              "      <td>581992</td>\n",
              "      <td>3</td>\n",
              "      <td>208.0</td>\n",
              "      <td>217.0</td>\n",
              "      <td>222.0</td>\n",
              "    </tr>\n",
              "    <tr>\n",
              "      <th>3</th>\n",
              "      <td>98.0</td>\n",
              "      <td>111.928111</td>\n",
              "      <td>74.318350</td>\n",
              "      <td>479698</td>\n",
              "      <td>4</td>\n",
              "      <td>146.0</td>\n",
              "      <td>156.0</td>\n",
              "      <td>162.0</td>\n",
              "    </tr>\n",
              "  </tbody>\n",
              "</table>\n",
              "</div>\n",
              "      <button class=\"colab-df-convert\" onclick=\"convertToInteractive('df-5b73753c-992f-4a9c-aaf1-97d1e5eb559a')\"\n",
              "              title=\"Convert this dataframe to an interactive table.\"\n",
              "              style=\"display:none;\">\n",
              "        \n",
              "  <svg xmlns=\"http://www.w3.org/2000/svg\" height=\"24px\"viewBox=\"0 0 24 24\"\n",
              "       width=\"24px\">\n",
              "    <path d=\"M0 0h24v24H0V0z\" fill=\"none\"/>\n",
              "    <path d=\"M18.56 5.44l.94 2.06.94-2.06 2.06-.94-2.06-.94-.94-2.06-.94 2.06-2.06.94zm-11 1L8.5 8.5l.94-2.06 2.06-.94-2.06-.94L8.5 2.5l-.94 2.06-2.06.94zm10 10l.94 2.06.94-2.06 2.06-.94-2.06-.94-.94-2.06-.94 2.06-2.06.94z\"/><path d=\"M17.41 7.96l-1.37-1.37c-.4-.4-.92-.59-1.43-.59-.52 0-1.04.2-1.43.59L10.3 9.45l-7.72 7.72c-.78.78-.78 2.05 0 2.83L4 21.41c.39.39.9.59 1.41.59.51 0 1.02-.2 1.41-.59l7.78-7.78 2.81-2.81c.8-.78.8-2.07 0-2.86zM5.41 20L4 18.59l7.72-7.72 1.47 1.35L5.41 20z\"/>\n",
              "  </svg>\n",
              "      </button>\n",
              "      \n",
              "  <style>\n",
              "    .colab-df-container {\n",
              "      display:flex;\n",
              "      flex-wrap:wrap;\n",
              "      gap: 12px;\n",
              "    }\n",
              "\n",
              "    .colab-df-convert {\n",
              "      background-color: #E8F0FE;\n",
              "      border: none;\n",
              "      border-radius: 50%;\n",
              "      cursor: pointer;\n",
              "      display: none;\n",
              "      fill: #1967D2;\n",
              "      height: 32px;\n",
              "      padding: 0 0 0 0;\n",
              "      width: 32px;\n",
              "    }\n",
              "\n",
              "    .colab-df-convert:hover {\n",
              "      background-color: #E2EBFA;\n",
              "      box-shadow: 0px 1px 2px rgba(60, 64, 67, 0.3), 0px 1px 3px 1px rgba(60, 64, 67, 0.15);\n",
              "      fill: #174EA6;\n",
              "    }\n",
              "\n",
              "    [theme=dark] .colab-df-convert {\n",
              "      background-color: #3B4455;\n",
              "      fill: #D2E3FC;\n",
              "    }\n",
              "\n",
              "    [theme=dark] .colab-df-convert:hover {\n",
              "      background-color: #434B5C;\n",
              "      box-shadow: 0px 1px 3px 1px rgba(0, 0, 0, 0.15);\n",
              "      filter: drop-shadow(0px 1px 2px rgba(0, 0, 0, 0.3));\n",
              "      fill: #FFFFFF;\n",
              "    }\n",
              "  </style>\n",
              "\n",
              "      <script>\n",
              "        const buttonEl =\n",
              "          document.querySelector('#df-5b73753c-992f-4a9c-aaf1-97d1e5eb559a button.colab-df-convert');\n",
              "        buttonEl.style.display =\n",
              "          google.colab.kernel.accessAllowed ? 'block' : 'none';\n",
              "\n",
              "        async function convertToInteractive(key) {\n",
              "          const element = document.querySelector('#df-5b73753c-992f-4a9c-aaf1-97d1e5eb559a');\n",
              "          const dataTable =\n",
              "            await google.colab.kernel.invokeFunction('convertToInteractive',\n",
              "                                                     [key], {});\n",
              "          if (!dataTable) return;\n",
              "\n",
              "          const docLinkHtml = 'Like what you see? Visit the ' +\n",
              "            '<a target=\"_blank\" href=https://colab.research.google.com/notebooks/data_table.ipynb>data table notebook</a>'\n",
              "            + ' to learn more about interactive tables.';\n",
              "          element.innerHTML = '';\n",
              "          dataTable['output_type'] = 'display_data';\n",
              "          await google.colab.output.renderOutput(dataTable, element);\n",
              "          const docLink = document.createElement('div');\n",
              "          docLink.innerHTML = docLinkHtml;\n",
              "          element.appendChild(docLink);\n",
              "        }\n",
              "      </script>\n",
              "    </div>\n",
              "  </div>\n",
              "  "
            ]
          },
          "metadata": {},
          "execution_count": 42
        }
      ]
    },
    {
      "cell_type": "markdown",
      "source": [
        "Shannon's Entropy"
      ],
      "metadata": {
        "id": "rNORNUZeyDoH"
      }
    },
    {
      "cell_type": "code",
      "source": [
        "from skimage.util import img_as_ubyte\n",
        "from skimage.filters.rank import entropy\n",
        "from skimage.morphology import disk\n",
        "from skimage.util import img_as_ubyte\n",
        "from skimage.measure import shannon_entropy\n",
        "import skimage as sk \n",
        "\n",
        "def entropy_image(imgG):\n",
        "\n",
        "    img = img_as_ubyte(imgG) # convert to uint8\n",
        "\n",
        "# Local entropy in a certain pixel neiborhood:\n",
        "    shannon_img = shannon_entropy(img)\n",
        "    print('Shannon ={}'.format(shannon_img))\n",
        "# Flatten the image (convert from matrix to vector):\n",
        "    v = img.flatten()\n",
        "# For each grayscale leve, get the pixel probability of occurrence:\n",
        "    probg,edges = np.histogram(v,bins=np.arange(256), density=True)\n",
        "    eps = 1e-16\n",
        "    probg = probg + eps\n",
        "# Compute Shannon's entropy:\n",
        "    H_noise = -np.sum(probg * np.log2(probg), axis=0)\n",
        "# Compare: \n",
        "    print('Entropy = {}'.format(H_noise))\n",
        "    return shannon_img"
      ],
      "metadata": {
        "id": "HC3EMmOIteod"
      },
      "execution_count": 46,
      "outputs": []
    },
    {
      "cell_type": "code",
      "source": [
        "props1 = regionprops_table(I_segment,intensity_image=data,properties=('centroid','area','label',),extra_properties=(quartiles,entropy_image,))   \n",
        "df_props1 = pd.DataFrame(props1)  \n",
        "df_props1.head() "
      ],
      "metadata": {
        "colab": {
          "base_uri": "https://localhost:8080/",
          "height": 425
        },
        "id": "gROadGHTvsck",
        "outputId": "32cf5b87-5ecc-47c0-eaa5-b48c46e8ade6"
      },
      "execution_count": 47,
      "outputs": [
        {
          "output_type": "stream",
          "name": "stdout",
          "text": [
            "Shannon =0.6324022445466285\n",
            "Entropy = 0.632402244547973\n",
            "Shannon =0.22853814395352803\n",
            "Entropy = 0.2285381439548729\n",
            "Shannon =0.876716288999464\n",
            "Entropy = 0.8767162890008087\n",
            "Shannon =0.6324022445466285\n",
            "Entropy = 0.632402244547973\n",
            "Shannon =0.27657661416307544\n",
            "Entropy = 0.27657661416442025\n",
            "Shannon =0.6465458934199002\n",
            "Entropy = 0.6465458934212447\n",
            "Shannon =0.5322709840969412\n",
            "Entropy = 0.5322709840982857\n"
          ]
        },
        {
          "output_type": "execute_result",
          "data": {
            "text/plain": [
              "   centroid-0  centroid-1  centroid-2    area  label  quartiles-0  \\\n",
              "0        98.0  108.347991   79.477686  626981      1        174.0   \n",
              "1        98.0  108.696664   78.877046  194072      2         93.0   \n",
              "2        98.0  117.122332   90.630394  581992      3        208.0   \n",
              "3        98.0  111.928111   74.318350  479698      4        146.0   \n",
              "\n",
              "   quartiles-1  quartiles-2  entropy_image  \n",
              "0        181.0        189.0       0.632402  \n",
              "1        109.0        120.0       0.276577  \n",
              "2        217.0        222.0       0.646546  \n",
              "3        156.0        162.0       0.532271  "
            ],
            "text/html": [
              "\n",
              "  <div id=\"df-3dc86d06-217b-4207-8826-177ffd865ed8\">\n",
              "    <div class=\"colab-df-container\">\n",
              "      <div>\n",
              "<style scoped>\n",
              "    .dataframe tbody tr th:only-of-type {\n",
              "        vertical-align: middle;\n",
              "    }\n",
              "\n",
              "    .dataframe tbody tr th {\n",
              "        vertical-align: top;\n",
              "    }\n",
              "\n",
              "    .dataframe thead th {\n",
              "        text-align: right;\n",
              "    }\n",
              "</style>\n",
              "<table border=\"1\" class=\"dataframe\">\n",
              "  <thead>\n",
              "    <tr style=\"text-align: right;\">\n",
              "      <th></th>\n",
              "      <th>centroid-0</th>\n",
              "      <th>centroid-1</th>\n",
              "      <th>centroid-2</th>\n",
              "      <th>area</th>\n",
              "      <th>label</th>\n",
              "      <th>quartiles-0</th>\n",
              "      <th>quartiles-1</th>\n",
              "      <th>quartiles-2</th>\n",
              "      <th>entropy_image</th>\n",
              "    </tr>\n",
              "  </thead>\n",
              "  <tbody>\n",
              "    <tr>\n",
              "      <th>0</th>\n",
              "      <td>98.0</td>\n",
              "      <td>108.347991</td>\n",
              "      <td>79.477686</td>\n",
              "      <td>626981</td>\n",
              "      <td>1</td>\n",
              "      <td>174.0</td>\n",
              "      <td>181.0</td>\n",
              "      <td>189.0</td>\n",
              "      <td>0.632402</td>\n",
              "    </tr>\n",
              "    <tr>\n",
              "      <th>1</th>\n",
              "      <td>98.0</td>\n",
              "      <td>108.696664</td>\n",
              "      <td>78.877046</td>\n",
              "      <td>194072</td>\n",
              "      <td>2</td>\n",
              "      <td>93.0</td>\n",
              "      <td>109.0</td>\n",
              "      <td>120.0</td>\n",
              "      <td>0.276577</td>\n",
              "    </tr>\n",
              "    <tr>\n",
              "      <th>2</th>\n",
              "      <td>98.0</td>\n",
              "      <td>117.122332</td>\n",
              "      <td>90.630394</td>\n",
              "      <td>581992</td>\n",
              "      <td>3</td>\n",
              "      <td>208.0</td>\n",
              "      <td>217.0</td>\n",
              "      <td>222.0</td>\n",
              "      <td>0.646546</td>\n",
              "    </tr>\n",
              "    <tr>\n",
              "      <th>3</th>\n",
              "      <td>98.0</td>\n",
              "      <td>111.928111</td>\n",
              "      <td>74.318350</td>\n",
              "      <td>479698</td>\n",
              "      <td>4</td>\n",
              "      <td>146.0</td>\n",
              "      <td>156.0</td>\n",
              "      <td>162.0</td>\n",
              "      <td>0.532271</td>\n",
              "    </tr>\n",
              "  </tbody>\n",
              "</table>\n",
              "</div>\n",
              "      <button class=\"colab-df-convert\" onclick=\"convertToInteractive('df-3dc86d06-217b-4207-8826-177ffd865ed8')\"\n",
              "              title=\"Convert this dataframe to an interactive table.\"\n",
              "              style=\"display:none;\">\n",
              "        \n",
              "  <svg xmlns=\"http://www.w3.org/2000/svg\" height=\"24px\"viewBox=\"0 0 24 24\"\n",
              "       width=\"24px\">\n",
              "    <path d=\"M0 0h24v24H0V0z\" fill=\"none\"/>\n",
              "    <path d=\"M18.56 5.44l.94 2.06.94-2.06 2.06-.94-2.06-.94-.94-2.06-.94 2.06-2.06.94zm-11 1L8.5 8.5l.94-2.06 2.06-.94-2.06-.94L8.5 2.5l-.94 2.06-2.06.94zm10 10l.94 2.06.94-2.06 2.06-.94-2.06-.94-.94-2.06-.94 2.06-2.06.94z\"/><path d=\"M17.41 7.96l-1.37-1.37c-.4-.4-.92-.59-1.43-.59-.52 0-1.04.2-1.43.59L10.3 9.45l-7.72 7.72c-.78.78-.78 2.05 0 2.83L4 21.41c.39.39.9.59 1.41.59.51 0 1.02-.2 1.41-.59l7.78-7.78 2.81-2.81c.8-.78.8-2.07 0-2.86zM5.41 20L4 18.59l7.72-7.72 1.47 1.35L5.41 20z\"/>\n",
              "  </svg>\n",
              "      </button>\n",
              "      \n",
              "  <style>\n",
              "    .colab-df-container {\n",
              "      display:flex;\n",
              "      flex-wrap:wrap;\n",
              "      gap: 12px;\n",
              "    }\n",
              "\n",
              "    .colab-df-convert {\n",
              "      background-color: #E8F0FE;\n",
              "      border: none;\n",
              "      border-radius: 50%;\n",
              "      cursor: pointer;\n",
              "      display: none;\n",
              "      fill: #1967D2;\n",
              "      height: 32px;\n",
              "      padding: 0 0 0 0;\n",
              "      width: 32px;\n",
              "    }\n",
              "\n",
              "    .colab-df-convert:hover {\n",
              "      background-color: #E2EBFA;\n",
              "      box-shadow: 0px 1px 2px rgba(60, 64, 67, 0.3), 0px 1px 3px 1px rgba(60, 64, 67, 0.15);\n",
              "      fill: #174EA6;\n",
              "    }\n",
              "\n",
              "    [theme=dark] .colab-df-convert {\n",
              "      background-color: #3B4455;\n",
              "      fill: #D2E3FC;\n",
              "    }\n",
              "\n",
              "    [theme=dark] .colab-df-convert:hover {\n",
              "      background-color: #434B5C;\n",
              "      box-shadow: 0px 1px 3px 1px rgba(0, 0, 0, 0.15);\n",
              "      filter: drop-shadow(0px 1px 2px rgba(0, 0, 0, 0.3));\n",
              "      fill: #FFFFFF;\n",
              "    }\n",
              "  </style>\n",
              "\n",
              "      <script>\n",
              "        const buttonEl =\n",
              "          document.querySelector('#df-3dc86d06-217b-4207-8826-177ffd865ed8 button.colab-df-convert');\n",
              "        buttonEl.style.display =\n",
              "          google.colab.kernel.accessAllowed ? 'block' : 'none';\n",
              "\n",
              "        async function convertToInteractive(key) {\n",
              "          const element = document.querySelector('#df-3dc86d06-217b-4207-8826-177ffd865ed8');\n",
              "          const dataTable =\n",
              "            await google.colab.kernel.invokeFunction('convertToInteractive',\n",
              "                                                     [key], {});\n",
              "          if (!dataTable) return;\n",
              "\n",
              "          const docLinkHtml = 'Like what you see? Visit the ' +\n",
              "            '<a target=\"_blank\" href=https://colab.research.google.com/notebooks/data_table.ipynb>data table notebook</a>'\n",
              "            + ' to learn more about interactive tables.';\n",
              "          element.innerHTML = '';\n",
              "          dataTable['output_type'] = 'display_data';\n",
              "          await google.colab.output.renderOutput(dataTable, element);\n",
              "          const docLink = document.createElement('div');\n",
              "          docLink.innerHTML = docLinkHtml;\n",
              "          element.appendChild(docLink);\n",
              "        }\n",
              "      </script>\n",
              "    </div>\n",
              "  </div>\n",
              "  "
            ]
          },
          "metadata": {},
          "execution_count": 47
        }
      ]
    },
    {
      "cell_type": "markdown",
      "source": [
        "Texture features ina slice"
      ],
      "metadata": {
        "id": "fI6ArBXGyS2j"
      }
    },
    {
      "cell_type": "code",
      "source": [
        "from skimage.feature.texture import greycomatrix,greycoprops\n",
        "\n",
        "# Plot slice 40 (axial view). We transpose the image and set origin to lower, to see the axial representation\n",
        "n_slice = 40 \n",
        "I = data[:,:,n_slice].T\n",
        "fig = plt.figure(figsize=(6,4), dpi= 100, facecolor='w', edgecolor='k')\n",
        "imgplot = plt.imshow(I,cmap='gray', origin='lower')\n",
        "\n",
        "I1 = np.uint8(I) # convert to uint8\n",
        "\n",
        "g = greycomatrix(I1,[2], [np.pi/2],normed=True, symmetric=True)\n",
        "contrast = greycoprops(g,'contrast')\n",
        "homogeneity = greycoprops(g, 'homogeneity')\n",
        "energy = greycoprops(g, 'energy')\n",
        "correlation = greycoprops(g, 'correlation')\n",
        "\n",
        "X = np.array([contrast,homogeneity,energy,correlation]).squeeze()\n",
        "X"
      ],
      "metadata": {
        "colab": {
          "base_uri": "https://localhost:8080/",
          "height": 380
        },
        "id": "wLGzdaD8yUY-",
        "outputId": "49f6cd98-5afb-487b-c88f-74323694881d"
      },
      "execution_count": 81,
      "outputs": [
        {
          "output_type": "execute_result",
          "data": {
            "text/plain": [
              "array([313.30564529,   0.78041985,   0.7495941 ,   0.97029199])"
            ]
          },
          "metadata": {},
          "execution_count": 81
        },
        {
          "output_type": "display_data",
          "data": {
            "text/plain": [
              "<Figure size 600x400 with 1 Axes>"
            ],
            "image/png": "[encoded data removed]"
          },
          "metadata": {}
        }
      ]
    },
    {
      "cell_type": "code",
      "source": [
        "X = np.array([contrast,homogeneity,energy,correlation]).squeeze()\n",
        "X.shape"
      ],
      "metadata": {
        "colab": {
          "base_uri": "https://localhost:8080/"
        },
        "id": "hY38hEvrv0j_",
        "outputId": "cb07599e-fefb-4264-948b-76c75e6042ac"
      },
      "execution_count": 79,
      "outputs": [
        {
          "output_type": "execute_result",
          "data": {
            "text/plain": [
              "(4,)"
            ]
          },
          "metadata": {},
          "execution_count": 79
        }
      ]
    },
    {
      "cell_type": "code",
      "source": [
        ""
      ],
      "metadata": {
        "id": "zx7MBs5a5hQy"
      },
      "execution_count": null,
      "outputs": []
    }
  ]
}
