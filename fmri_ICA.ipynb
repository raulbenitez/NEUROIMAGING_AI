{
  "nbformat": 4,
  "nbformat_minor": 0,
  "metadata": {
    "colab": {
      "name": "fmri_ICA.ipynb",
      "provenance": [],
      "authorship_tag": "ABX9TyNylaJei9FZkgBfallgQata",
      "include_colab_link": true
    },
    "kernelspec": {
      "name": "python3",
      "display_name": "Python 3"
    },
    "language_info": {
      "name": "python"
    }
  },
  "cells": [
    {
      "cell_type": "markdown",
      "metadata": {
        "id": "view-in-github",
        "colab_type": "text"
      },
      "source": [
        "<a href=\"https://colab.research.google.com/github/raulbenitez/NEUROIMAGING_AI/blob/main/fmri_ICA.ipynb\" target=\"_parent\"><img src=\"https://colab.research.google.com/assets/colab-badge.svg\" alt=\"Open In Colab\"/></a>"
      ]
    },
    {
      "cell_type": "code",
      "execution_count": null,
      "metadata": {
        "id": "ho2LCT6JhFzh"
      },
      "outputs": [],
      "source": [
        ""
      ]
    },
    {
      "cell_type": "markdown",
      "source": [
        "fmri ICA\n",
        "\n",
        "https://towardsdatascience.com/exploring-cognitive-differences-via-resting-state-networks-2112bf5291e2\n",
        "\n",
        "\n",
        "\n",
        "https://github.com/karnigili/Computational-Neuroscience\n",
        "\n"
      ],
      "metadata": {
        "id": "K7vAVeqphG4n"
      }
    }
  ]
}