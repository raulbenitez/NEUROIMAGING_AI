{
  "nbformat": 4,
  "nbformat_minor": 0,
  "metadata": {
    "colab": {
      "name": "fmri_LSTM.ipynb",
      "provenance": [],
      "authorship_tag": "ABX9TyNDwUTwVzMq82GqhyAkIKUh",
      "include_colab_link": true
    },
    "kernelspec": {
      "name": "python3",
      "display_name": "Python 3"
    },
    "language_info": {
      "name": "python"
    }
  },
  "cells": [
    {
      "cell_type": "markdown",
      "metadata": {
        "id": "view-in-github",
        "colab_type": "text"
      },
      "source": [
        "<a href=\"https://colab.research.google.com/github/raulbenitez/NEUROIMAGING_AI/blob/main/fmri_LSTM.ipynb\" target=\"_parent\"><img src=\"https://colab.research.google.com/assets/colab-badge.svg\" alt=\"Open In Colab\"/></a>"
      ]
    },
    {
      "cell_type": "markdown",
      "source": [
        "https://towardsdatascience.com/classifying-adhd-from-healthy-controls-using-lstms-with-rs-fmri-data-300c1f3e9697\n",
        "\n",
        "https://github.com/karnigili/Computational-Neuroscience\n"
      ],
      "metadata": {
        "id": "NaKNeAfnhn0c"
      }
    },
    {
      "cell_type": "code",
      "execution_count": null,
      "metadata": {
        "id": "wp8N0uj7hkiY"
      },
      "outputs": [],
      "source": [
        ""
      ]
    }
  ]
}