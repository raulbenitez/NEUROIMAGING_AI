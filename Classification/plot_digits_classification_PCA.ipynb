{
  "cells": [
    {
      "cell_type": "markdown",
      "metadata": {
        "id": "view-in-github",
        "colab_type": "text"
      },
      "source": [
        "<a href=\"https://colab.research.google.com/github/raulbenitez/NEUROIMAGING_AI/blob/main/Classification/plot_digits_classification_PCA.ipynb\" target=\"_parent\"><img src=\"https://colab.research.google.com/assets/colab-badge.svg\" alt=\"Open In Colab\"/></a>"
      ]
    },
    {
      "cell_type": "markdown",
      "metadata": {
        "id": "pcJ3J-bbztJQ"
      },
      "source": [
        "\n",
        "# Recognizing hand-written digits\n",
        "\n",
        "This example shows how scikit-learn can be used to recognize images of\n",
        "hand-written digits, from 0-9.\n"
      ]
    },
    {
      "cell_type": "code",
      "execution_count": 101,
      "metadata": {
        "id": "OtD5x4bcztJS"
      },
      "outputs": [],
      "source": [
        "# Author: Gael Varoquaux <gael dot varoquaux at normalesup dot org>\n",
        "# License: BSD 3 clause\n",
        "\n",
        "# Standard scientific Python imports\n",
        "import matplotlib.pyplot as plt\n",
        "\n",
        "# Import datasets, classifiers and performance metrics\n",
        "from sklearn import datasets, svm, metrics\n",
        "from sklearn.model_selection import train_test_split"
      ]
    },
    {
      "cell_type": "markdown",
      "metadata": {
        "id": "AzZxWdEjztJS"
      },
      "source": [
        "## Digits dataset\n",
        "\n",
        "The digits dataset consists of 8x8\n",
        "pixel images of digits. The ``images`` attribute of the dataset stores\n",
        "8x8 arrays of grayscale values for each image. We will use these arrays to\n",
        "visualize the first 4 images. The ``target`` attribute of the dataset stores\n",
        "the digit each image represents and this is included in the title of the 4\n",
        "plots below.\n",
        "\n",
        "Note: if we were working from image files (e.g., 'png' files), we would load\n",
        "them using :func:`matplotlib.pyplot.imread`.\n",
        "\n"
      ]
    },
    {
      "cell_type": "code",
      "execution_count": 102,
      "metadata": {
        "colab": {
          "base_uri": "https://localhost:8080/",
          "height": 168
        },
        "id": "QxYPirL9ztJT",
        "outputId": "8cdb0c3a-3b14-406e-d5bc-29e93c655ad5"
      },
      "outputs": [
        {
          "output_type": "display_data",
          "data": {
            "text/plain": [
              "<Figure size 720x216 with 4 Axes>"
            ],
            "image/png": "[encoded data removed]"
          },
          "metadata": {
            "needs_background": "light"
          }
        }
      ],
      "source": [
        "digits = datasets.load_digits()\n",
        "\n",
        "_, axes = plt.subplots(nrows=1, ncols=4, figsize=(10, 3))\n",
        "for ax, image, label in zip(axes, digits.images, digits.target):\n",
        "    ax.set_axis_off()\n",
        "    ax.imshow(image, cmap=plt.cm.gray_r, interpolation=\"nearest\")\n",
        "    ax.set_title(\"Training: %i\" % label)"
      ]
    },
    {
      "cell_type": "markdown",
      "metadata": {
        "id": "57kBcKE2ztJT"
      },
      "source": [
        "## Classification\n",
        "\n",
        "To apply a classifier on this data, we need to flatten the images, turning\n",
        "each 2-D array of grayscale values from shape ``(8, 8)`` into shape\n",
        "``(64,)``. Subsequently, the entire dataset will be of shape\n",
        "``(n_samples, n_features)``, where ``n_samples`` is the number of images and\n",
        "``n_features`` is the total number of pixels in each image.\n",
        "\n",
        "We can then split the data into train and test subsets and fit a support\n",
        "vector classifier on the train samples. The fitted classifier can\n",
        "subsequently be used to predict the value of the digit for the samples\n",
        "in the test subset.\n",
        "\n"
      ]
    },
    {
      "cell_type": "code",
      "execution_count": 103,
      "metadata": {
        "id": "gVhdiipuztJU"
      },
      "outputs": [],
      "source": [
        "# flatten the images\n",
        "n_samples = len(digits.images)\n",
        "data = digits.images.reshape((n_samples, -1))\n",
        "\n",
        "# Create a classifier: a support vector classifier\n",
        "clf = svm.SVC(gamma=0.001)\n",
        "\n",
        "# Split data into 50% train and 50% test subsets\n",
        "X_train, X_test, y_train, y_test = train_test_split(\n",
        "    data, digits.target, test_size=0.5, shuffle=False\n",
        ")\n",
        "\n",
        "# Learn the digits on the train subset\n",
        "clf.fit(X_train, y_train)\n",
        "\n",
        "# Predict the value of the digit on the test subset\n",
        "predicted = clf.predict(X_test)"
      ]
    },
    {
      "cell_type": "markdown",
      "metadata": {
        "id": "0aC10NrHztJU"
      },
      "source": [
        "Below we visualize the first 4 test samples and show their predicted\n",
        "digit value in the title.\n",
        "\n"
      ]
    },
    {
      "cell_type": "code",
      "execution_count": 104,
      "metadata": {
        "colab": {
          "base_uri": "https://localhost:8080/",
          "height": 168
        },
        "id": "B6PRA7yRztJV",
        "outputId": "fa7fc99b-20dc-4428-df6c-8f6d9358d29f"
      },
      "outputs": [
        {
          "output_type": "display_data",
          "data": {
            "text/plain": [
              "<Figure size 720x216 with 4 Axes>"
            ],
            "image/png": "[encoded data removed]"
          },
          "metadata": {
            "needs_background": "light"
          }
        }
      ],
      "source": [
        "_, axes = plt.subplots(nrows=1, ncols=4, figsize=(10, 3))\n",
        "for ax, image, prediction in zip(axes, X_test, predicted):\n",
        "    ax.set_axis_off()\n",
        "    image = image.reshape(8, 8)\n",
        "    ax.imshow(image, cmap=plt.cm.gray_r, interpolation=\"nearest\")\n",
        "    ax.set_title(f\"Prediction: {prediction}\")"
      ]
    },
    {
      "cell_type": "markdown",
      "metadata": {
        "id": "8YYR4CRoztJV"
      },
      "source": [
        ":func:`~sklearn.metrics.classification_report` builds a text report showing\n",
        "the main classification metrics.\n",
        "\n"
      ]
    },
    {
      "cell_type": "code",
      "execution_count": 105,
      "metadata": {
        "colab": {
          "base_uri": "https://localhost:8080/"
        },
        "id": "N-Pyge6VztJW",
        "outputId": "72537010-475b-45f6-e63c-d7d3d263b5ce"
      },
      "outputs": [
        {
          "output_type": "stream",
          "name": "stdout",
          "text": [
            "Classification report for classifier SVC(gamma=0.001):\n",
            "              precision    recall  f1-score   support\n",
            "\n",
            "           0       1.00      0.99      0.99        88\n",
            "           1       0.99      0.97      0.98        91\n",
            "           2       0.99      0.99      0.99        86\n",
            "           3       0.98      0.87      0.92        91\n",
            "           4       0.99      0.96      0.97        92\n",
            "           5       0.95      0.97      0.96        91\n",
            "           6       0.99      0.99      0.99        91\n",
            "           7       0.96      0.99      0.97        89\n",
            "           8       0.94      1.00      0.97        88\n",
            "           9       0.93      0.98      0.95        92\n",
            "\n",
            "    accuracy                           0.97       899\n",
            "   macro avg       0.97      0.97      0.97       899\n",
            "weighted avg       0.97      0.97      0.97       899\n",
            "\n",
            "\n"
          ]
        }
      ],
      "source": [
        "print(\n",
        "    f\"Classification report for classifier {clf}:\\n\"\n",
        "    f\"{metrics.classification_report(y_test, predicted)}\\n\"\n",
        ")"
      ]
    },
    {
      "cell_type": "markdown",
      "metadata": {
        "id": "UHD4xPh9ztJW"
      },
      "source": [
        "We can also plot a `confusion matrix <confusion_matrix>` of the\n",
        "true digit values and the predicted digit values.\n",
        "\n"
      ]
    },
    {
      "cell_type": "code",
      "execution_count": 106,
      "metadata": {
        "colab": {
          "base_uri": "https://localhost:8080/",
          "height": 499
        },
        "id": "70Et1U6IztJW",
        "outputId": "5c9f6f88-92b3-4108-e2b9-5f9006fe74ed"
      },
      "outputs": [
        {
          "output_type": "stream",
          "name": "stdout",
          "text": [
            "Confusion matrix:\n",
            "[[87  0  0  0  1  0  0  0  0  0]\n",
            " [ 0 88  1  0  0  0  0  0  1  1]\n",
            " [ 0  0 85  1  0  0  0  0  0  0]\n",
            " [ 0  0  0 79  0  3  0  4  5  0]\n",
            " [ 0  0  0  0 88  0  0  0  0  4]\n",
            " [ 0  0  0  0  0 88  1  0  0  2]\n",
            " [ 0  1  0  0  0  0 90  0  0  0]\n",
            " [ 0  0  0  0  0  1  0 88  0  0]\n",
            " [ 0  0  0  0  0  0  0  0 88  0]\n",
            " [ 0  0  0  1  0  1  0  0  0 90]]\n"
          ]
        },
        {
          "output_type": "display_data",
          "data": {
            "text/plain": [
              "<Figure size 432x288 with 2 Axes>"
            ],
            "image/png": "[encoded data removed]"
          },
          "metadata": {
            "needs_background": "light"
          }
        }
      ],
      "source": [
        "disp = metrics.ConfusionMatrixDisplay.from_predictions(y_test, predicted)\n",
        "disp.figure_.suptitle(\"Confusion Matrix\")\n",
        "print(f\"Confusion matrix:\\n{disp.confusion_matrix}\")\n",
        "\n",
        "plt.show()"
      ]
    },
    {
      "cell_type": "markdown",
      "source": [
        "# USING PCA FEATURES"
      ],
      "metadata": {
        "id": "9uaahT1iz1v6"
      }
    },
    {
      "cell_type": "code",
      "source": [
        "from sklearn.decomposition import PCA\n",
        "from sklearn.preprocessing import StandardScaler\n",
        "\n",
        "n_components = 5\n",
        "h=8\n",
        "w=8\n",
        "\n",
        "print(\"Extracting the top %d eigenfaces from %d faces\"\n",
        "      % (n_components, X_train.shape[0]))\n",
        "pca = PCA(n_components=n_components).fit(X_train)\n",
        "\n",
        "eigenfaces = pca.components_.reshape((n_components, h, w))\n",
        "\n",
        "print(\"PCA projection of the images\")\n",
        "X_train_pca = pca.transform(X_train)\n",
        "X_test_pca = pca.transform(X_test)"
      ],
      "metadata": {
        "colab": {
          "base_uri": "https://localhost:8080/"
        },
        "id": "DuIyeUQQz9xD",
        "outputId": "b6249145-370d-42d3-9d00-d7cbd6d40244"
      },
      "execution_count": 140,
      "outputs": [
        {
          "output_type": "stream",
          "name": "stdout",
          "text": [
            "Extracting the top 5 eigenfaces from 898 faces\n",
            "PCA projection of the images\n"
          ]
        }
      ]
    },
    {
      "cell_type": "code",
      "source": [
        "X_train_pca.shape"
      ],
      "metadata": {
        "colab": {
          "base_uri": "https://localhost:8080/"
        },
        "id": "PYHmqzlz5fld",
        "outputId": "112c0898-c0be-4179-ba7f-f62ce4add1ef"
      },
      "execution_count": 141,
      "outputs": [
        {
          "output_type": "execute_result",
          "data": {
            "text/plain": [
              "(898, 5)"
            ]
          },
          "metadata": {},
          "execution_count": 141
        }
      ]
    },
    {
      "cell_type": "code",
      "source": [
        "pca.explained_variance_ratio_.cumsum()"
      ],
      "metadata": {
        "colab": {
          "base_uri": "https://localhost:8080/"
        },
        "id": "I2FgrbHz23tl",
        "outputId": "3e17eab3-3f2d-4c2f-d0ab-781dc6b25bcf"
      },
      "execution_count": 142,
      "outputs": [
        {
          "output_type": "execute_result",
          "data": {
            "text/plain": [
              "array([0.13980742, 0.27616399, 0.40031404, 0.49787873, 0.55746308])"
            ]
          },
          "metadata": {},
          "execution_count": 142
        }
      ]
    },
    {
      "cell_type": "code",
      "source": [
        "%matplotlib inline\n",
        "\n",
        "fig, axes = plt.subplots(1,n_components,figsize=(20, 20))\n",
        "ax = axes.ravel()\n",
        "for i in range(n_components):\n",
        "  ax[i].imshow(eigenfaces[i,:,:],cmap=plt.cm.jet)\n",
        "  ax[i].set_title('eigenface number {}'.format(i+1)) \n",
        "  ax[i].set_axis_off()\n",
        "plt.show()"
      ],
      "metadata": {
        "colab": {
          "base_uri": "https://localhost:8080/",
          "height": 239
        },
        "id": "NKBh41Od2Pbp",
        "outputId": "f11125ff-32d0-414a-928b-b2f65b697952"
      },
      "execution_count": 143,
      "outputs": [
        {
          "output_type": "display_data",
          "data": {
            "text/plain": [
              "<Figure size 1440x1440 with 5 Axes>"
            ],
            "image/png": "[encoded data removed]"
          },
          "metadata": {
            "needs_background": "light"
          }
        }
      ]
    },
    {
      "cell_type": "code",
      "source": [
        "plt.imshow(eigenfaces[1,:,:])"
      ],
      "metadata": {
        "colab": {
          "base_uri": "https://localhost:8080/",
          "height": 282
        },
        "id": "rr-Su_HL-GWT",
        "outputId": "e42e3ff4-a238-48eb-f7e4-a120910f0a40"
      },
      "execution_count": 144,
      "outputs": [
        {
          "output_type": "execute_result",
          "data": {
            "text/plain": [
              "<matplotlib.image.AxesImage at 0x7f35939b6b10>"
            ]
          },
          "metadata": {},
          "execution_count": 144
        },
        {
          "output_type": "display_data",
          "data": {
            "text/plain": [
              "<Figure size 432x288 with 1 Axes>"
            ],
            "image/png": "[encoded data removed]"
          },
          "metadata": {
            "needs_background": "light"
          }
        }
      ]
    },
    {
      "cell_type": "code",
      "source": [
        "\n",
        "print(\"Fitting the classifier to the training set\")\n",
        "clf1 = svm.SVC(gamma=0.001)\n",
        "clf1.fit(X_train_pca, y_train)\n",
        "from sklearn.metrics import classification_report\n",
        "from sklearn.metrics import confusion_matrix\n",
        "\n",
        "print(\"Predicting people's names on the test set\")\n",
        "y_pred_svm = clf1.predict(X_test_pca)\n",
        "print(classification_report(y_test, y_pred_svm))\n",
        "print(confusion_matrix(y_test, y_pred_svm))"
      ],
      "metadata": {
        "colab": {
          "base_uri": "https://localhost:8080/"
        },
        "id": "adIp69sS1RI2",
        "outputId": "a47aaf88-d198-4936-ace6-c0c968b439cd"
      },
      "execution_count": 145,
      "outputs": [
        {
          "output_type": "stream",
          "name": "stdout",
          "text": [
            "Fitting the classifier to the training set\n",
            "Predicting people's names on the test set\n",
            "              precision    recall  f1-score   support\n",
            "\n",
            "           0       1.00      0.95      0.98        88\n",
            "           1       0.94      0.89      0.92        91\n",
            "           2       0.84      0.83      0.83        86\n",
            "           3       0.80      0.81      0.81        91\n",
            "           4       0.98      0.88      0.93        92\n",
            "           5       0.90      0.97      0.93        91\n",
            "           6       0.94      0.99      0.96        91\n",
            "           7       0.87      0.94      0.90        89\n",
            "           8       0.77      0.68      0.72        88\n",
            "           9       0.74      0.80      0.77        92\n",
            "\n",
            "    accuracy                           0.88       899\n",
            "   macro avg       0.88      0.87      0.87       899\n",
            "weighted avg       0.88      0.88      0.88       899\n",
            "\n",
            "[[84  0  0  0  1  1  2  0  0  0]\n",
            " [ 0 81  0  0  0  0  0  1  3  6]\n",
            " [ 0  0 71  4  0  0  0  0  7  4]\n",
            " [ 0  1  2 74  0  1  0  7  2  4]\n",
            " [ 0  0  2  0 81  0  3  1  1  4]\n",
            " [ 0  0  0  1  0 88  1  0  0  1]\n",
            " [ 0  1  0  0  0  0 90  0  0  0]\n",
            " [ 0  2  0  0  0  0  0 84  3  0]\n",
            " [ 0  1 10  4  1  2  0  3 60  7]\n",
            " [ 0  0  0  9  0  6  0  1  2 74]]\n"
          ]
        }
      ]
    },
    {
      "cell_type": "code",
      "source": [
        ""
      ],
      "metadata": {
        "id": "pX7YM7IqCPvt"
      },
      "execution_count": null,
      "outputs": []
    }
  ],
  "metadata": {
    "kernelspec": {
      "display_name": "Python 3",
      "language": "python",
      "name": "python3"
    },
    "language_info": {
      "codemirror_mode": {
        "name": "ipython",
        "version": 3
      },
      "file_extension": ".py",
      "mimetype": "text/x-python",
      "name": "python",
      "nbconvert_exporter": "python",
      "pygments_lexer": "ipython3",
      "version": "3.9.12"
    },
    "colab": {
      "name": "plot_digits_classification_PCA.ipynb",
      "provenance": [],
      "include_colab_link": true
    }
  },
  "nbformat": 4,
  "nbformat_minor": 0
}