{
  "nbformat": 4,
  "nbformat_minor": 0,
  "metadata": {
    "colab": {
      "name": "PCA_MNIST.ipynb",
      "provenance": [],
      "authorship_tag": "ABX9TyMlbTY9iGr+tN2Z8V1oqPfl",
      "include_colab_link": true
    },
    "kernelspec": {
      "name": "python3",
      "display_name": "Python 3"
    },
    "language_info": {
      "name": "python"
    }
  },
  "cells": [
    {
      "cell_type": "markdown",
      "metadata": {
        "id": "view-in-github",
        "colab_type": "text"
      },
      "source": [
        "<a href=\"https://colab.research.google.com/github/raulbenitez/NEUROIMAGING_AI/blob/main/Classification/PCA_MNIST.ipynb\" target=\"_parent\"><img src=\"https://colab.research.google.com/assets/colab-badge.svg\" alt=\"Open In Colab\"/></a>"
      ]
    },
    {
      "cell_type": "markdown",
      "source": [
        "# Load MNIST dataset"
      ],
      "metadata": {
        "id": "9S8QTwlVAqo5"
      }
    },
    {
      "cell_type": "code",
      "execution_count": 4,
      "metadata": {
        "id": "aQgnX0pl_tEq"
      },
      "outputs": [],
      "source": [
        "import numpy as np\n",
        "from tensorflow import keras\n",
        "from tensorflow.keras import layers\n",
        "\n",
        "# Load data, split between train and test sets\n",
        "(x_train, y_train), (x_test, y_test) = keras.datasets.mnist.load_data()\n",
        "\n",
        "# Scale images to the [0, 1] range\n",
        "x_train = x_train.astype(\"float32\") / 255\n",
        "x_test = x_test.astype(\"float32\") / 255"
      ]
    },
    {
      "cell_type": "markdown",
      "source": [
        "# Visualize sample images and class"
      ],
      "metadata": {
        "id": "wAX_LNb7Cq1o"
      }
    },
    {
      "cell_type": "code",
      "source": [
        "import matplotlib.pyplot as plt\n",
        "\n",
        "k = 112\n",
        "plt.imshow(x_train[k])\n",
        "plt.title('Image {} class label {}'.format(k, y_train[k]))"
      ],
      "metadata": {
        "colab": {
          "base_uri": "https://localhost:8080/",
          "height": 298
        },
        "id": "ykAPkZmZCHL2",
        "outputId": "0895231a-d58d-4f33-c5d9-096b998bd113"
      },
      "execution_count": 5,
      "outputs": [
        {
          "output_type": "execute_result",
          "data": {
            "text/plain": [
              "Text(0.5, 1.0, 'Image 112\\xa0class label 1')"
            ]
          },
          "metadata": {},
          "execution_count": 5
        },
        {
          "output_type": "display_data",
          "data": {
            "text/plain": [
              "<Figure size 432x288 with 1 Axes>"
            ],
            "image/png": "[encoded data removed]"
          },
          "metadata": {
            "needs_background": "light"
          }
        }
      ]
    },
    {
      "cell_type": "code",
      "source": [
        "x_train.shape"
      ],
      "metadata": {
        "colab": {
          "base_uri": "https://localhost:8080/"
        },
        "id": "k0rgvKK9BPLD",
        "outputId": "d16966b4-c04c-4088-98f7-898b4f6d48cb"
      },
      "execution_count": 6,
      "outputs": [
        {
          "output_type": "execute_result",
          "data": {
            "text/plain": [
              "(60000, 28, 28)"
            ]
          },
          "metadata": {},
          "execution_count": 6
        }
      ]
    },
    {
      "cell_type": "markdown",
      "source": [
        "# Flatten/reshape images"
      ],
      "metadata": {
        "id": "WqyMnGSBAtLX"
      }
    },
    {
      "cell_type": "code",
      "source": [
        "X_train = x_train.reshape(x_train.shape[0],x_train.shape[1]*x_train.shape[2])\n",
        "X_test = x_test.reshape(x_test.shape[0],x_test.shape[1]*x_test.shape[2])\n",
        "X_train.shape"
      ],
      "metadata": {
        "colab": {
          "base_uri": "https://localhost:8080/"
        },
        "id": "GQLSG0mA_0c-",
        "outputId": "977221c3-72f1-4de6-d78a-2759963d634e"
      },
      "execution_count": 8,
      "outputs": [
        {
          "output_type": "execute_result",
          "data": {
            "text/plain": [
              "(60000, 784)"
            ]
          },
          "metadata": {},
          "execution_count": 8
        }
      ]
    },
    {
      "cell_type": "markdown",
      "source": [
        "# Perform PCA dimensionality reduction/feature extraction"
      ],
      "metadata": {
        "id": "zSoQ9jO7Axpw"
      }
    },
    {
      "cell_type": "code",
      "source": [
        "from sklearn.decomposition import PCA\n",
        "\n",
        "n_components = 150\n",
        "\n",
        "print(\"Extracting the top %d eigenfaces from %d faces\"\n",
        "      % (n_components, X_train.shape[0]))\n",
        "pca = PCA(n_components=n_components, svd_solver='randomized',\n",
        "          whiten=True).fit(X_train)\n",
        "\n",
        "\n",
        "eigenfaces = pca.components_.reshape((n_components,x_train.shape[1],x_train.shape[2]))\n",
        "\n",
        "print(\"PCA projection of the images\")\n",
        "X_train_pca = pca.transform(X_train)\n",
        "X_test_pca = pca.transform(X_test)"
      ],
      "metadata": {
        "colab": {
          "base_uri": "https://localhost:8080/"
        },
        "id": "ZumQCUL5_t7q",
        "outputId": "2f326486-b2c1-48f1-fdc9-de04f4ca5d1f"
      },
      "execution_count": 9,
      "outputs": [
        {
          "output_type": "stream",
          "name": "stdout",
          "text": [
            "Extracting the top 150 eigenfaces from 60000 faces\n",
            "PCA projection of the images\n"
          ]
        }
      ]
    },
    {
      "cell_type": "code",
      "source": [
        "eigenfaces.shape"
      ],
      "metadata": {
        "colab": {
          "base_uri": "https://localhost:8080/"
        },
        "id": "H-tG8addDyd1",
        "outputId": "f1cd4836-d18f-48cd-921a-5162f8635764"
      },
      "execution_count": 15,
      "outputs": [
        {
          "output_type": "execute_result",
          "data": {
            "text/plain": [
              "(150, 28, 28)"
            ]
          },
          "metadata": {},
          "execution_count": 15
        }
      ]
    },
    {
      "cell_type": "markdown",
      "source": [
        "Visualizar un eigenface"
      ],
      "metadata": {
        "id": "4UQgaFqjDtFC"
      }
    },
    {
      "cell_type": "code",
      "source": [
        "k = 0\n",
        "plt.imshow(eigenfaces[k])\n",
        "plt.title('Eigenface {}'.format(k))"
      ],
      "metadata": {
        "colab": {
          "base_uri": "https://localhost:8080/",
          "height": 298
        },
        "id": "CNPgpVzQDvPS",
        "outputId": "35ec712e-b131-4c1a-f14d-5d5deb8a63b5"
      },
      "execution_count": 18,
      "outputs": [
        {
          "output_type": "execute_result",
          "data": {
            "text/plain": [
              "Text(0.5, 1.0, 'Eigenface 0')"
            ]
          },
          "metadata": {},
          "execution_count": 18
        },
        {
          "output_type": "display_data",
          "data": {
            "text/plain": [
              "<Figure size 432x288 with 1 Axes>"
            ],
            "image/png": "[encoded data removed]"
          },
          "metadata": {
            "needs_background": "light"
          }
        }
      ]
    },
    {
      "cell_type": "code",
      "source": [
        "np.where(pca.explained_variance_ratio_.cumsum()>0.9)"
      ],
      "metadata": {
        "colab": {
          "base_uri": "https://localhost:8080/"
        },
        "id": "VzR5iPTwAOMg",
        "outputId": "f341083f-1122-478a-df1b-82556f5e05d9"
      },
      "execution_count": 10,
      "outputs": [
        {
          "output_type": "execute_result",
          "data": {
            "text/plain": [
              "(array([ 86,  87,  88,  89,  90,  91,  92,  93,  94,  95,  96,  97,  98,\n",
              "         99, 100, 101, 102, 103, 104, 105, 106, 107, 108, 109, 110, 111,\n",
              "        112, 113, 114, 115, 116, 117, 118, 119, 120, 121, 122, 123, 124,\n",
              "        125, 126, 127, 128, 129, 130, 131, 132, 133, 134, 135, 136, 137,\n",
              "        138, 139, 140, 141, 142, 143, 144, 145, 146, 147, 148, 149]),)"
            ]
          },
          "metadata": {},
          "execution_count": 10
        }
      ]
    },
    {
      "cell_type": "markdown",
      "source": [
        "# Fit a Classifier and evaluate performance"
      ],
      "metadata": {
        "id": "FO1VAL9vA2Xh"
      }
    },
    {
      "cell_type": "code",
      "source": [
        "from sklearn.discriminant_analysis import LinearDiscriminantAnalysis\n",
        "from sklearn.metrics import classification_report\n",
        "from sklearn.metrics import confusion_matrix\n",
        "\n",
        "lda = LinearDiscriminantAnalysis()\n",
        "lda = lda.fit(X_train_pca, y_train)\n",
        "y_pred_lda = lda.predict(X_test_pca)\n",
        "print(classification_report(y_test, y_pred_lda))\n",
        "print(confusion_matrix(y_test, y_pred_lda, labels=range(10)))"
      ],
      "metadata": {
        "colab": {
          "base_uri": "https://localhost:8080/"
        },
        "id": "10wBle66Aagn",
        "outputId": "4107e6ba-2b74-4054-c18f-30f4546cdc3d"
      },
      "execution_count": 14,
      "outputs": [
        {
          "output_type": "stream",
          "name": "stdout",
          "text": [
            "              precision    recall  f1-score   support\n",
            "\n",
            "           0       0.94      0.94      0.94       980\n",
            "           1       0.89      0.96      0.92      1135\n",
            "           2       0.92      0.81      0.86      1032\n",
            "           3       0.88      0.88      0.88      1010\n",
            "           4       0.86      0.91      0.88       982\n",
            "           5       0.82      0.80      0.81       892\n",
            "           6       0.91      0.91      0.91       958\n",
            "           7       0.91      0.84      0.88      1028\n",
            "           8       0.81      0.81      0.81       974\n",
            "           9       0.81      0.87      0.84      1009\n",
            "\n",
            "    accuracy                           0.87     10000\n",
            "   macro avg       0.87      0.87      0.87     10000\n",
            "weighted avg       0.88      0.87      0.87     10000\n",
            "\n",
            "[[ 923    1    0    3    2   28   13    2    7    1]\n",
            " [   0 1090    3    2    1    3    4    1   30    1]\n",
            " [  15   30  835   30   23    5   23   11   53    7]\n",
            " [   4    6   28  885    3   28    4   17   24   11]\n",
            " [   0   11    4    0  890    4    9    1    9   54]\n",
            " [  13   11    5   45   11  715   17   16   40   19]\n",
            " [  11    8    5    0   21   28  874    0   11    0]\n",
            " [   2   32   15    8   16    2    2  866    6   79]\n",
            " [   5   29    8   26   17   49   13   10  785   32]\n",
            " [   9    7    2   11   52    7    2   27   10  882]]\n"
          ]
        }
      ]
    }
  ]
}